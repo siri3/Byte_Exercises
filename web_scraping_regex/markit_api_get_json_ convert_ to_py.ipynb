{
 "cells": [
  {
   "cell_type": "markdown",
   "metadata": {},
   "source": [
    "http://dev.markitondemand.com/MODApis/Api/v2/doc\n",
    "\n",
    "\n",
    "Read the Json data from the below URL , and dump the data into a markit.json file\n",
    "\n",
    "Follow the JSON API call and its corresponding documentation is in the above link.\n",
    "\n",
    "http://dev.markitondemand.com/Api/v2/Lookup/json?input=Netflix\n",
    "\n",
    "http://dev.markitondemand.com/Api/v2/Quote/json?symbol=AAPL\n",
    "\n",
    "http://dev.markitondemand.com/MODApis/Api/v2/Quote/json?symbol=MSFT\n",
    "\n",
    "convert the JSON data into Python Dictionary Objects and print the dictionary objects to the console\n",
    "\n"
   ]
  },
  {
   "cell_type": "code",
   "execution_count": 1,
   "metadata": {},
   "outputs": [],
   "source": [
    "import requests"
   ]
  },
  {
   "cell_type": "code",
   "execution_count": 2,
   "metadata": {},
   "outputs": [],
   "source": [
    "import json"
   ]
  },
  {
   "cell_type": "code",
   "execution_count": 3,
   "metadata": {},
   "outputs": [],
   "source": [
    "url = 'http://dev.markitondemand.com/Api/v2/Lookup/json?input=vjgcdyt'"
   ]
  },
  {
   "cell_type": "code",
   "execution_count": 4,
   "metadata": {},
   "outputs": [],
   "source": [
    "r = requests.get(url)"
   ]
  },
  {
   "cell_type": "code",
   "execution_count": 5,
   "metadata": {},
   "outputs": [
    {
     "data": {
      "text/plain": [
       "<Response [200]>"
      ]
     },
     "execution_count": 5,
     "metadata": {},
     "output_type": "execute_result"
    }
   ],
   "source": [
    "r"
   ]
  },
  {
   "cell_type": "code",
   "execution_count": 6,
   "metadata": {},
   "outputs": [],
   "source": [
    "content = r.content  "
   ]
  },
  {
   "cell_type": "code",
   "execution_count": 7,
   "metadata": {},
   "outputs": [
    {
     "data": {
      "text/plain": [
       "b'[]'"
      ]
     },
     "execution_count": 7,
     "metadata": {},
     "output_type": "execute_result"
    }
   ],
   "source": [
    "content"
   ]
  },
  {
   "cell_type": "code",
   "execution_count": 8,
   "metadata": {},
   "outputs": [
    {
     "data": {
      "text/plain": [
       "bytes"
      ]
     },
     "execution_count": 8,
     "metadata": {},
     "output_type": "execute_result"
    }
   ],
   "source": [
    "type(content)"
   ]
  },
  {
   "cell_type": "code",
   "execution_count": 9,
   "metadata": {},
   "outputs": [],
   "source": [
    "decoded = content.decode()"
   ]
  },
  {
   "cell_type": "code",
   "execution_count": 10,
   "metadata": {},
   "outputs": [
    {
     "data": {
      "text/plain": [
       "'[]'"
      ]
     },
     "execution_count": 10,
     "metadata": {},
     "output_type": "execute_result"
    }
   ],
   "source": [
    "decoded"
   ]
  },
  {
   "cell_type": "code",
   "execution_count": 11,
   "metadata": {},
   "outputs": [
    {
     "data": {
      "text/plain": [
       "str"
      ]
     },
     "execution_count": 11,
     "metadata": {},
     "output_type": "execute_result"
    }
   ],
   "source": [
    "type(decoded)"
   ]
  },
  {
   "cell_type": "code",
   "execution_count": 12,
   "metadata": {},
   "outputs": [],
   "source": [
    "py = json.loads(decoded)  #can do only on str data"
   ]
  },
  {
   "cell_type": "code",
   "execution_count": 13,
   "metadata": {},
   "outputs": [
    {
     "data": {
      "text/plain": [
       "[]"
      ]
     },
     "execution_count": 13,
     "metadata": {},
     "output_type": "execute_result"
    }
   ],
   "source": [
    "py"
   ]
  },
  {
   "cell_type": "code",
   "execution_count": 16,
   "metadata": {},
   "outputs": [],
   "source": [
    "urls = ['http://dev.markitondemand.com/Api/v2/Quote/json?symbol=AMPL','http://dev.markitondemand.com/MODApis/Api/v2/Quote/json?symbol=MSFT']"
   ]
  },
  {
   "cell_type": "code",
   "execution_count": 17,
   "metadata": {},
   "outputs": [
    {
     "name": "stdout",
     "output_type": "stream",
     "text": [
      "{\"Message\":\"No symbol matches found for AMPL. Try another symbol such as MSFT or AAPL, or use the Lookup API.\"}\n",
      "<class 'str'>\n",
      "{'Message': 'No symbol matches found for AMPL. Try another symbol such as MSFT or AAPL, or use the Lookup API.'}\n",
      "<class 'dict'>\n",
      "\n",
      "\n",
      "{\"Status\":\"SUCCESS\",\"Name\":\"Microsoft Corp\",\"Symbol\":\"MSFT\",\"LastPrice\":96.77,\"Change\":0.22999999999999,\"ChangePercent\":0.238243215247555,\"Timestamp\":\"Mon Mar 12 00:00:00 UTC-04:00 2018\",\"MSDate\":43171,\"MarketCap\":745108968610,\"Volume\":26073742,\"ChangeYTD\":85.54,\"ChangePercentYTD\":13.1283610007014,\"High\":97.21,\"Low\":96.04,\"Open\":96.5}\n",
      "<class 'str'>\n",
      "{'ChangePercent': 0.238243215247555, 'Open': 96.5, 'Symbol': 'MSFT', 'High': 97.21, 'ChangePercentYTD': 13.1283610007014, 'Name': 'Microsoft Corp', 'Status': 'SUCCESS', 'Volume': 26073742, 'MSDate': 43171, 'ChangeYTD': 85.54, 'Change': 0.22999999999999, 'Timestamp': 'Mon Mar 12 00:00:00 UTC-04:00 2018', 'LastPrice': 96.77, 'MarketCap': 745108968610, 'Low': 96.04}\n",
      "<class 'dict'>\n",
      "\n",
      "\n"
     ]
    }
   ],
   "source": [
    "for u in urls:\n",
    "    r = requests.get(u)\n",
    "    data = r.content.decode()\n",
    "    print (data)\n",
    "    print (type(data))\n",
    "    py = json.loads(data)\n",
    "    print (py)\n",
    "    print (type(py))\n",
    "    print ('\\n')"
   ]
  },
  {
   "cell_type": "code",
   "execution_count": 19,
   "metadata": {},
   "outputs": [
    {
     "data": {
      "text/plain": [
       "{'Change': 0.22999999999999,\n",
       " 'ChangePercent': 0.238243215247555,\n",
       " 'ChangePercentYTD': 13.1283610007014,\n",
       " 'ChangeYTD': 85.54,\n",
       " 'High': 97.21,\n",
       " 'LastPrice': 96.77,\n",
       " 'Low': 96.04,\n",
       " 'MSDate': 43171,\n",
       " 'MarketCap': 745108968610,\n",
       " 'Name': 'Microsoft Corp',\n",
       " 'Open': 96.5,\n",
       " 'Status': 'SUCCESS',\n",
       " 'Symbol': 'MSFT',\n",
       " 'Timestamp': 'Mon Mar 12 00:00:00 UTC-04:00 2018',\n",
       " 'Volume': 26073742}"
      ]
     },
     "execution_count": 19,
     "metadata": {},
     "output_type": "execute_result"
    }
   ],
   "source": [
    "py"
   ]
  },
  {
   "cell_type": "code",
   "execution_count": 22,
   "metadata": {},
   "outputs": [
    {
     "data": {
      "text/plain": [
       "str"
      ]
     },
     "execution_count": 22,
     "metadata": {},
     "output_type": "execute_result"
    }
   ],
   "source": [
    "type(py['Symbol'])\n"
   ]
  },
  {
   "cell_type": "code",
   "execution_count": null,
   "metadata": {},
   "outputs": [],
   "source": []
  }
 ],
 "metadata": {
  "kernelspec": {
   "display_name": "Python 3",
   "language": "python",
   "name": "python3"
  },
  "language_info": {
   "codemirror_mode": {
    "name": "ipython",
    "version": 3
   },
   "file_extension": ".py",
   "mimetype": "text/x-python",
   "name": "python",
   "nbconvert_exporter": "python",
   "pygments_lexer": "ipython3",
   "version": "3.5.2"
  }
 },
 "nbformat": 4,
 "nbformat_minor": 2
}
