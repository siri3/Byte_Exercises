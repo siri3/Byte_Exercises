{
 "cells": [
  {
   "cell_type": "markdown",
   "metadata": {},
   "source": [
    "# read file, pattern match dates, sort file lines based on date"
   ]
  },
  {
   "cell_type": "markdown",
   "metadata": {},
   "source": [
    "In this assignment, you'll be working with messy medical data and using regex to extract relevant infromation from the data.\n",
    "\n",
    "Each line of the dates.txt file corresponds to a medical note. Each note has a date that needs to be extracted, but each date is encoded in one of many formats.\n",
    "\n",
    "The goal of this assignment is to correctly identify all of the different date variants encoded in this dataset and to properly normalize and sort the dates.\n",
    "\n",
    "Here is a list of some of the variants you might encounter in this dataset:\n",
    "\n",
    "04/20/2009; 04/20/09; 4/20/09; 4/3/09\n",
    "Mar-20-2009; Mar 20, 2009; March 20, 2009; Mar. 20, 2009; Mar 20 2009;\n",
    "20 Mar 2009; 20 March 2009; 20 Mar. 2009; 20 March, 2009\n",
    "Mar 20th, 2009; Mar 21st, 2009; Mar 22nd, 2009\n",
    "Feb 2009; Sep 2009; Oct 2010\n",
    "6/2008; 12/2009\n",
    "2009; 2010\n",
    "Once you have extracted these date patterns from the text, the next step is to sort them in ascending chronological order accoring to the following rules:\n",
    "\n",
    "Assume all dates in xx/xx/xx format are mm/dd/yy\n",
    "Assume all dates where year is encoded in only two digits are years from the 1900's (e.g. 1/5/89 is January 5th, 1989)\n",
    "If the day is missing (e.g. 9/2009), assume it is the first day of the month (e.g. September 1, 2009).\n",
    "If the month is missing (e.g. 2010), assume it is the first of January of that year (e.g. January 1, 2010).\n",
    "Watch out for potential typos as this is a raw, real-life derived dataset.\n",
    "With these rules in mind, find the correct date in each note and return a pandas Series in chronological order of the original Series' indices.\n",
    "\n",
    "For example if the original series was this:\n",
    "\n",
    "0    1999\n",
    "1    2010\n",
    "2    1978\n",
    "3    2015\n",
    "4    1985\n",
    "Your function should return this:\n",
    "\n",
    "0    2\n",
    "1    4\n",
    "2    0\n",
    "3    1\n",
    "4    3\n",
    "Your score will be calculated using Kendall's tau, a correlation measure for ordinal data.\n",
    "\n",
    "This function should return a Series of length 500 and dtype int."
   ]
  },
  {
   "cell_type": "code",
   "execution_count": 104,
   "metadata": {},
   "outputs": [],
   "source": [
    "import re"
   ]
  },
  {
   "cell_type": "code",
   "execution_count": 105,
   "metadata": {},
   "outputs": [],
   "source": [
    "f = open(\"dates.txt\")"
   ]
  },
  {
   "cell_type": "code",
   "execution_count": 106,
   "metadata": {},
   "outputs": [],
   "source": [
    "lines = []\n",
    "i = 0"
   ]
  },
  {
   "cell_type": "code",
   "execution_count": 107,
   "metadata": {},
   "outputs": [],
   "source": [
    "#sometimes data can be spread over multiple lines. how to keep this data together when sorting based on dates.\n",
    "\n",
    "for line in f:\n",
    "    lines.append(line)         \n",
    "    i += 1"
   ]
  },
  {
   "cell_type": "code",
   "execution_count": 108,
   "metadata": {},
   "outputs": [],
   "source": [
    "f.close()"
   ]
  },
  {
   "cell_type": "code",
   "execution_count": 109,
   "metadata": {},
   "outputs": [],
   "source": [
    "pat1 = re.compile('(([01]\\d|\\d)/(?:([0-3]\\d|\\d)/)?([12][90]\\d\\d|\\d\\d))') #may catch non dates like 43/89 add month abbr or here if needed"
   ]
  },
  {
   "cell_type": "code",
   "execution_count": 110,
   "metadata": {},
   "outputs": [],
   "source": [
    "pat1b = re.compile('(([01]\\d|\\d)-([0-3]\\d|\\d)-([12][90]\\d\\d|\\d\\d))')"
   ]
  },
  {
   "cell_type": "code",
   "execution_count": 111,
   "metadata": {},
   "outputs": [],
   "source": [
    "# 04 Oct 1972, Sep. 10, 1974\n",
    "# also catches Age 16, 1991\n",
    "# also catches 6 hours. as23\n",
    "\n",
    "pat2 = re.compile('((?:([0-3]\\d|\\d),?\\.?\\s([a-zA-Z]{3,9})|([a-zA-Z]{3,9}),?\\.?\\s([0-3]\\d|\\d)),?\\.?\\s([12][90]\\d\\d|\\d\\d))')      \n"
   ]
  },
  {
   "cell_type": "code",
   "execution_count": 112,
   "metadata": {},
   "outputs": [],
   "source": [
    "date_lines = []"
   ]
  },
  {
   "cell_type": "code",
   "execution_count": 113,
   "metadata": {},
   "outputs": [],
   "source": [
    "months = ['jan', 'feb', 'mar', 'apr', 'may', 'jun', 'jul', 'aug', 'sep', 'oct', 'nov', 'dec']"
   ]
  },
  {
   "cell_type": "code",
   "execution_count": 114,
   "metadata": {},
   "outputs": [],
   "source": [
    "i = 0"
   ]
  },
  {
   "cell_type": "code",
   "execution_count": 115,
   "metadata": {},
   "outputs": [],
   "source": [
    "for l in lines:  \n",
    "    #[('7/1982', '7', '', '1982')] [('11/14/83', '11', '14', '83')]\n",
    "    match = pat1.findall(l)  \n",
    "    if match:\n",
    "        (dt,mm,dd,yyyy) = (match[0][0],match[0][1],match[0][2],match[0][3])  \n",
    "        if dd == \"\": dd = \"01\"\n",
    "        if int(mm)>12 or int(dd)>31 or (len(yyyy)==4 and int(yyyy) > 2018):\n",
    "            pass\n",
    "        else:\n",
    "            if len(yyyy) == 2:\n",
    "                if int(yyyy) in range(0,19):\n",
    "                    yyyy = \"20\"+ yyyy\n",
    "                else:\n",
    "                    yyyy = \"19\"+ yyyy  \n",
    "            if len(mm) == 1: mm = \"0\"+ mm\n",
    "            if len(dd) == 1: dd = \"0\" + dd\n",
    "            date = yyyy+\"/\"+mm+\"/\"+dd\n",
    "            date_lines.append((date,dt,l,i))\n",
    "            i +=1\n",
    "            continue\n",
    "            \n",
    "    # [('4-13-82', '4', '13', '82')]\n",
    "    match = pat1b.findall(l)\n",
    "    if match:\n",
    "        (dt,mm,dd,yyyy) = (match[0][0],match[0][1],match[0][2],match[0][3])    \n",
    "        if int(mm)>12 or int(dd)>31 or (len(yyyy)==4 and int(yyyy) > 2018):\n",
    "            pass\n",
    "        else:\n",
    "            if len(yyyy) == 2:\n",
    "                if int(yyyy) in range(0,19):\n",
    "                    yyyy = \"20\"+ yyyy\n",
    "                else:\n",
    "                    yyyy = \"19\"+ yyyy  \n",
    "            if len(mm) == 1: mm = \"0\" + mm\n",
    "            if len(dd) == 1: dd = \"0\" + dd\n",
    "            date = yyyy+\"/\"+mm+\"/\"+dd\n",
    "            date_lines.append((date,dt,l,i))\n",
    "            i +=1\n",
    "            continue\n",
    "        \n",
    "    #[[('04 Oct 1972', '04', 'Oct', '', '', '1972')][('Sep. 10, 1974', '', '', 'Sep', '10', '1974')] \n",
    "    # also catches Age 16, 1991\n",
    "    # also catches 6 hours.\\n23\n",
    "    match = pat2.findall(l)   \n",
    "    if match:\n",
    "        (dt,dd,mm,yyyy) = (match[0][0],match[0][1]+match[0][4],match[0][2]+match[0][3],match[0][5])\n",
    "        if int(dd) > 31:\n",
    "            dd = \"01\"\n",
    "        try:\n",
    "            mm = str(months.index(mm[:3].lower()) + 1)\n",
    "        except:\n",
    "            try:\n",
    "                mm = str(months.index(mm[1:4].lower()) + 1)\n",
    "            except:\n",
    "                mm = \"01\"\n",
    "                dd = \"01\"\n",
    "        if len(mm) == 1: mm = \"0\" + mm\n",
    "        if len(dd) == 1: dd = \"0\" + dd       \n",
    "        date = yyyy+\"/\"+mm+\"/\"+dd\n",
    "        date_lines.append((date,dt,l,i))\n",
    "        i +=1\n",
    "        continue\n",
    "        \n",
    "    #[('in 2014', 'in', '2014')]\n",
    "    # overlaps with pat2 but wont hit lines matching pat2\n",
    "    match = re.findall('(([a-zA-Z]+),?\\s([12][90]\\d\\d))',l)   \n",
    "    if match:\n",
    "        (dt,mm,yyyy) = (match[0][0],match[0][1],match[0][2])\n",
    "        try:\n",
    "            mm = str(months.index(mm[:3].lower()) + 1)\n",
    "        except:\n",
    "            try:\n",
    "                mm = str(months.index(mm[1:4].lower()) + 1)\n",
    "            except:\n",
    "                mm = \"01\"\n",
    "        if len(mm) == 1: mm = \"0\" + mm\n",
    "        if len(dd) == 1: dd = \"0\" + dd         \n",
    "        date = yyyy+\"/\"+mm+\"/\"+\"01\"\n",
    "        date_lines.append((date,dt,l,i))\n",
    "        i +=1\n",
    "        continue\n",
    "    \n",
    "    # overlaps with all but wont hit lines matching prev pat\n",
    "    match = re.findall('([12][90]\\d\\d)',l)\n",
    "    if match:\n",
    "        (dt,yyyy) = (match[0],match[0])\n",
    "        date = yyyy+\"/01\"+\"/01\"\n",
    "        date_lines.append((date,dt,l,i))\n",
    "        i +=1\n",
    "        continue\n",
    "        \n",
    "    date = \"\"    \n",
    "    dt = \"*no match*\"\n",
    "    date_lines.append((date,dt,l,i))\n",
    "    \n",
    "         \n",
    "    #date_lines holds (date in yyyy/mm/dd format, match string, full line, orig line num)"
   ]
  },
  {
   "cell_type": "code",
   "execution_count": 116,
   "metadata": {},
   "outputs": [],
   "source": [
    "date_lines.sort()"
   ]
  },
  {
   "cell_type": "code",
   "execution_count": 117,
   "metadata": {},
   "outputs": [],
   "source": [
    "f1 = open(\"dates_sorted_line_numbers.txt\",\"w\")"
   ]
  },
  {
   "cell_type": "code",
   "execution_count": 118,
   "metadata": {},
   "outputs": [],
   "source": [
    "f2 = open(\"dates_sorted.txt\",\"w\")"
   ]
  },
  {
   "cell_type": "code",
   "execution_count": 119,
   "metadata": {},
   "outputs": [],
   "source": [
    "for l in date_lines:\n",
    "    f1.write(str(l[3])+'\\n')\n",
    "    f2.write(l[2])"
   ]
  },
  {
   "cell_type": "code",
   "execution_count": 120,
   "metadata": {},
   "outputs": [],
   "source": [
    "f1.close()"
   ]
  },
  {
   "cell_type": "code",
   "execution_count": 121,
   "metadata": {},
   "outputs": [],
   "source": [
    "f2.close()"
   ]
  },
  {
   "cell_type": "markdown",
   "metadata": {},
   "source": [
    "match 10/13/1976\n",
    "match 4/24/98\n",
    "match _9/12/98\n",
    "match .9/12/98\n",
    "match 4.9/9/99\n",
    "skip 4.9/36/308 \n",
    "skip 19/29/99\n",
    "skip 6/6/6767\n",
    "match 5-9-10\n",
    "\n",
    "match 9/10\n",
    "skip 9-10\n",
    "\n",
    "match feb. 10\n",
    "match 23 feb 11\n",
    "skip feb-11\n",
    "skip and 10\n",
    "1982\n",
    "2/1982\n",
    "2-1982\n",
    "feb. 1982"
   ]
  }
 ],
 "metadata": {
  "kernelspec": {
   "display_name": "Python 3",
   "language": "python",
   "name": "python3"
  },
  "language_info": {
   "codemirror_mode": {
    "name": "ipython",
    "version": 3
   },
   "file_extension": ".py",
   "mimetype": "text/x-python",
   "name": "python",
   "nbconvert_exporter": "python",
   "pygments_lexer": "ipython3",
   "version": "3.5.2"
  }
 },
 "nbformat": 4,
 "nbformat_minor": 2
}
